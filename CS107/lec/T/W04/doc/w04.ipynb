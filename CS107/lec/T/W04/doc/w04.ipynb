{
 "cells": [
  {
   "cell_type": "markdown",
   "metadata": {},
   "source": [
    "# Special Operator Overloading"
   ]
  },
  {
   "cell_type": "code",
   "execution_count": 1,
   "metadata": {},
   "outputs": [],
   "source": [
    "#include <iostream>\n",
    "using std::cout; class Class { private: int data; public: Class() { this->data = 0; }; Class(int data) { this->data = data; }; int getData() { return this->data; }; Class& operator = (const Class& other) { this->data = other.data; return *this; }; Class& operator = (const int& other) { this->data = other; return *this; }; Class& operator ++ () { this->data += 1; return *this; }; Class operator ++ (int) { Class res = *this; this->data += 1; return res; }; };"
   ]
  },
  {
   "cell_type": "code",
   "execution_count": 2,
   "metadata": {},
   "outputs": [
    {
     "name": "stdout",
     "output_type": "stream",
     "text": [
      "ex1 = 5\n",
      "ex2 = 10\n",
      "ex3 = 15"
     ]
    }
   ],
   "source": [
    "Class ex1(5), ex2(10), ex3(15);\n",
    "cout << \"ex1 = \" << ex1.getData() << \"\\nex2 = \" << ex2.getData() << \"\\nex3 = \" << ex3.getData();"
   ]
  },
  {
   "cell_type": "markdown",
   "metadata": {},
   "source": [
    "## Assignment Operator\n",
    "- Returns **pointer**.\\\n",
    "↳ Two-way assignment is possible.\n",
    "\n",
    "```cpp\n",
    "Class& operator = (const Class& other) {\n",
    "\tthis->data = other.data;\n",
    "\t\n",
    "\treturn *this;\n",
    "};\n",
    "```"
   ]
  },
  {
   "cell_type": "code",
   "execution_count": 3,
   "metadata": {
    "vscode": {
     "languageId": "cpp"
    }
   },
   "outputs": [
    {
     "name": "stdout",
     "output_type": "stream",
     "text": [
      "Before:\n",
      "ex1 = 5\n",
      "ex2 = 10\n",
      "ex3 = 15\n",
      "\n",
      "After:\n",
      "ex1 = 15\n",
      "ex2 = 10\n",
      "ex3 = 15"
     ]
    }
   ],
   "source": [
    "cout << \"Before:\\n\" << \"ex1 = \" << ex1.getData() << \"\\nex2 = \" << ex2.getData() << \"\\nex3 = \" << ex3.getData(); ex1 = ex3; cout << \"\\n\\nAfter:\\n\" << \"ex1 = \" << ex1.getData() << \"\\nex2 = \" << ex2.getData() << \"\\nex3 = \" << ex3.getData();"
   ]
  },
  {
   "cell_type": "markdown",
   "metadata": {
    "tags": []
   },
   "source": [
    "## In/Decrement Operator\n",
    "\n",
    "### Prefix\n",
    "- Data will be modified before being returned.\n",
    "- Returns **pointer**.\\\n",
    "↳ Two-way assignment is possible.\n",
    "\n",
    "```cpp\n",
    "Class& operator ++ () {\n",
    "\tthis->data += 1;\n",
    "\t\n",
    "\treturn *this;\n",
    "};\n",
    "```"
   ]
  },
  {
   "cell_type": "code",
   "execution_count": 4,
   "metadata": {
    "vscode": {
     "languageId": "cpp"
    }
   },
   "outputs": [
    {
     "name": "stdout",
     "output_type": "stream",
     "text": [
      "Before:\n",
      "ex1 = 5\n",
      "ex2 = 10\n",
      "ex3 = 15\n",
      "\n",
      "[[++ex1 = ex3]]\n",
      "ex1 = 15\n",
      "ex2 = 10\n",
      "ex3 = 15\n",
      "\n",
      "[[ex1 = ++ex3]]\n",
      "ex1 = 16\n",
      "ex2 = 10\n",
      "ex3 = 16\n",
      "\n",
      "[[++ex1 = ++ex3]]\n",
      "ex1 = 16\n",
      "ex2 = 10\n",
      "ex3 = 16"
     ]
    }
   ],
   "source": [
    "ex1 = 5; ex2 = 10; ex3 = 15; cout << \"Before:\\n\" << \"ex1 = \" << ex1.getData() << \"\\nex2 = \" << ex2.getData() << \"\\nex3 = \" << ex3.getData(); ++ex1 = ex3; cout << \"\\n\\n[[++ex1 = ex3]]\\n\" << \"ex1 = \" << ex1.getData() << \"\\nex2 = \" << ex2.getData() << \"\\nex3 = \" << ex3.getData(); ex1 = 5; ex2 = 10; ex3 = 15; ex1 = ++ex3; cout << \"\\n\\n[[ex1 = ++ex3]]\\n\" << \"ex1 = \" << ex1.getData() << \"\\nex2 = \" << ex2.getData() << \"\\nex3 = \" << ex3.getData(); ex1 = 5; ex2 = 10; ex3 = 15; ++ex1 = ++ex3; cout << \"\\n\\n[[++ex1 = ++ex3]]\\n\" << \"ex1 = \" << ex1.getData() << \"\\nex2 = \" << ex2.getData() << \"\\nex3 = \" << ex3.getData();"
   ]
  },
  {
   "cell_type": "markdown",
   "metadata": {},
   "source": [
    "### Postfix\n",
    "- Data before modification will be returned.\n",
    "- Returns **value**.\\\n",
    "↳ Two-way assignment is not possible, only as assigner.\n",
    "\n",
    "> `int` acts as a **dummy argument** to distinguish between prefix and postfix since C++ functions are signed with name and arguments, not return type.\n",
    "\n",
    "```cpp\n",
    "Class operator ++ (int) {\n",
    "\tClass res = *this;\n",
    "\tthis->data += 1;\n",
    "\t\n",
    "\treturn res;\n",
    "};\n",
    "```"
   ]
  },
  {
   "cell_type": "code",
   "execution_count": 5,
   "metadata": {
    "vscode": {
     "languageId": "cpp"
    }
   },
   "outputs": [
    {
     "name": "stdout",
     "output_type": "stream",
     "text": [
      "Before:\n",
      "ex1 = 5\n",
      "ex2 = 10\n",
      "ex3 = 15\n",
      "\n",
      "[[ex1++ = ex3]]\n",
      "ex1 = 6\n",
      "ex2 = 10\n",
      "ex3 = 15\n",
      "\n",
      "[[ex1 = ex3++]]\n",
      "ex1 = 15\n",
      "ex2 = 10\n",
      "ex3 = 16"
     ]
    }
   ],
   "source": [
    "ex1 = 5; ex2 = 10; ex3 = 15; cout << \"Before:\\n\" << \"ex1 = \" << ex1.getData() << \"\\nex2 = \" << ex2.getData() << \"\\nex3 = \" << ex3.getData(); ex1++ = ex3; cout << \"\\n\\n[[ex1++ = ex3]]\\n\" << \"ex1 = \" << ex1.getData() << \"\\nex2 = \" << ex2.getData() << \"\\nex3 = \" << ex3.getData(); ex1 = 5; ex2 = 10; ex3 = 15; ex1 = ex3++; cout << \"\\n\\n[[ex1 = ex3++]]\\n\" << \"ex1 = \" << ex1.getData() << \"\\nex2 = \" << ex2.getData() << \"\\nex3 = \" << ex3.getData();"
   ]
  },
  {
   "cell_type": "markdown",
   "metadata": {},
   "source": [
    "## Stream Operator\n",
    "\n",
    "> Only put `friend` keyword at declaration, not definition.\n",
    "\n",
    "### ostream\n",
    "\n",
    "```cpp\n",
    "friend std::ostream& operator << (std::ostream& os, const Class& x) {\n",
    "\tos << x.data; return os;\n",
    "};\n",
    "```"
   ]
  },
  {
   "cell_type": "markdown",
   "metadata": {},
   "source": [
    "### istream\n",
    "\n",
    "```cpp\n",
    "friend std::istream& operator >> (std::istream& is, Class& x) {\n",
    "\tis >> x.data; return is;\n",
    "};\n",
    "```"
   ]
  }
 ],
 "metadata": {
  "kernelspec": {
   "display_name": "C++14",
   "language": "C++14",
   "name": "xcpp14"
  },
  "language_info": {
   "codemirror_mode": "text/x-c++src",
   "file_extension": ".cpp",
   "mimetype": "text/x-c++src",
   "name": "c++",
   "version": "14"
  }
 },
 "nbformat": 4,
 "nbformat_minor": 4
}
